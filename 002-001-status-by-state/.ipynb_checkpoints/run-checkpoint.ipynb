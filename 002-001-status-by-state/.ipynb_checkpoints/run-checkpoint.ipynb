{
 "cells": [
  {
   "cell_type": "code",
   "execution_count": 1,
   "id": "e1b53982",
   "metadata": {},
   "outputs": [],
   "source": [
    "# YES/NO data dictionary\n",
    "\n",
    "YES = 1\n",
    "NO = 2\n",
    "NOT_APPLY = 97\n",
    "IGNORED = 98\n",
    "NOT_SPECIFIED = 99\n",
    "\n",
    "\n",
    "# Laboratory result dictionary\n",
    "LAB_POSITIVE  = 1\n",
    "LAB_NO_POSITIVE = 2\n",
    "LAB_PENDING_RESULT = 3\n",
    "LAB_WRONG_RESULT = 4\n",
    "LAB_NOT_APPLY = 97 # CASO SIN MUESTRA\n"
   ]
  },
  {
   "cell_type": "code",
   "execution_count": 2,
   "id": "1e4ba699",
   "metadata": {},
   "outputs": [],
   "source": [
    "import json\n",
    "from os import environ\n",
    "from os.path import join\n",
    "\n",
    "input_folder = environ.get('CROSSCOMPUTE_INPUT_FOLDER', 'tests/standard/input')\n",
    "output_folder = environ.get('CROSSCOMPUTE_OUTPUT_FOLDER', 'tests/standard/output')\n",
    "# settings_path = join(input_folder, 'settings.json')\n",
    "# d = json.load(open(settings_path, 'rt'))\n",
    "# d"
   ]
  },
  {
   "cell_type": "code",
   "execution_count": 3,
   "id": "0a7b84b4",
   "metadata": {},
   "outputs": [
    {
     "data": {
      "text/plain": [
       "'/tmp/tmphihljomp'"
      ]
     },
     "execution_count": 3,
     "metadata": {},
     "output_type": "execute_result"
    }
   ],
   "source": [
    "import tempfile\n",
    "\n",
    "data_dir = tempfile.TemporaryDirectory()\n",
    "data_dir.name"
   ]
  },
  {
   "cell_type": "code",
   "execution_count": 4,
   "id": "733b66f6",
   "metadata": {},
   "outputs": [
    {
     "data": {
      "text/plain": [
       "'/tmp/tmpet1vc171'"
      ]
     },
     "execution_count": 4,
     "metadata": {},
     "output_type": "execute_result"
    }
   ],
   "source": [
    "import requests\n",
    "import tempfile\n",
    "\n",
    "temp_file = tempfile.NamedTemporaryFile(mode='wb', delete=False)\n",
    "chunk_size=128\n",
    "\n",
    "covid_data_url = 'http://datosabiertos.salud.gob.mx/gobmx/salud/datos_abiertos/datos_abiertos_covid19.zip'\n",
    "covid_zip_data = temp_file.name\n",
    "covid_zip_file = temp_file.file\n",
    "\n",
    "response = requests.get(covid_data_url, stream=True)\n",
    "\n",
    "for chunk in response.iter_content(chunk_size=chunk_size):\n",
    "    temp_file.write(chunk)\n",
    "\n",
    "temp_file.close()\n",
    "\n",
    "covid_zip_data\n"
   ]
  },
  {
   "cell_type": "code",
   "execution_count": 5,
   "id": "48569391",
   "metadata": {},
   "outputs": [],
   "source": [
    "from zipfile import ZipFile\n",
    "import os\n",
    "\n",
    "data_dir.cleanup()\n",
    "covid_csv_data = ''\n",
    "\n",
    "\n",
    "# with ZipFile(covid_zip_data, 'r') as zip:\n",
    "#     zip.extractall(data_dir.name)\n",
    "    \n",
    "# for root, dirs, files in os.walk(data_dir.name):\n",
    "#     if dirs == [] and files != []:\n",
    "#         covid_csv_data = os.path.join(root, files[0])\n",
    "#         print(covid_csv_data)"
   ]
  },
  {
   "cell_type": "code",
   "execution_count": null,
   "id": "99d294de",
   "metadata": {},
   "outputs": [],
   "source": [
    "import pandas as pd\n",
    "\n",
    "covid_pd = pd.read_csv(covid_zip_data, compression='zip', header=0, )\n",
    "covid_pd.set_index('ID_REGISTRO')\n",
    "\n",
    "# covid_pd.groupby('RESULTADO_LAB').size()\n"
   ]
  },
  {
   "cell_type": "markdown",
   "id": "52aeb79b",
   "metadata": {},
   "source": [
    "# Impacto del COVID19 por estado y por indicadores de la OCDE"
   ]
  },
  {
   "cell_type": "code",
   "execution_count": null,
   "id": "76f64203",
   "metadata": {},
   "outputs": [],
   "source": [
    "# Casos y Mortalidad por estado\n",
    "import geopandas\n",
    "mx = geopandas.read_file('data/mexican_states.geojson')\n",
    "mx = mx.set_index('fips_admin')\n",
    "mx = mx.sort_values(by=['fips_admin'])\n",
    "\n",
    "cases_cv19 = []\n",
    "deaths_cv19 = []\n",
    "\n",
    "covid_by_states_dfs = cv19_confirmed_cases.groupby('ENTIDAD_RES')\n",
    "for index in range(1, 33):\n",
    "    df = covid_by_states_dfs.get_group(index)\n",
    "    cases_cv19.append(df.shape[0])\n",
    "    deaths_cv19.append(who_died(df).shape[0])\n",
    "\n",
    "normalized_mx = mx.copy()\n",
    "mx['positive_cov_19'] = cases_cv19\n",
    "mx['deaths_cov_19'] = deaths_cv19\n",
    "mx['population'] = 0\n",
    "\n",
    "mx.to_csv(join(output_folder, 'table2.csv'), columns=['admin_name', 'positive_cov_19', 'deaths_cov_19'])\n",
    "mx_status = mx[['admin_name', 'positive_cov_19', 'deaths_cov_19', 'gmi_admin']]\n",
    "\n",
    "\n",
    "updated_column = map(lambda x: x.strip('MEX-'), list(mx_status['gmi_admin']))\n",
    "mx_status['gmi_admin'] = list(updated_column)\n",
    "mx_status = mx_status.set_index('gmi_admin')\n",
    "mx_status.loc['AGS', 'population'] = 1184996\n",
    "mx_status.loc['BCN', 'population'] = 3155070\n",
    "mx_status.loc['BCS', 'population'] = 637026\n",
    "mx_status.loc['CMP', 'population'] = 822441\n",
    "mx_status.loc['CHP', 'population'] = 4796580\n",
    "mx_status.loc['CHH', 'population'] = 3406465\n",
    "mx_status.loc['CDZ', 'population'] = 2748391\n",
    "mx_status.loc['COL', 'population'] = 650555\n",
    "mx_status.loc['DTD', 'population'] = 9209944\n",
    "mx_status.loc['DRN', 'population'] = 1632934\n",
    "mx_status.loc['GNJ', 'population'] = 5486372\n",
    "mx_status.loc['GRR', 'population'] = 3388768\n",
    "mx_status.loc['HDL', 'population'] = 2665018\n",
    "mx_status.loc['JLS', 'population'] = 7350682\n",
    "mx_status.loc['', 'population'] = 16992418\n",
    "mx_status.loc['DO', 'population'] = 4351037\n",
    "mx_status.loc['RL', 'population'] = 1777227\n",
    "mx_status.loc['NYR', 'population'] = 1084979\n",
    "mx_status.loc['NL', 'population'] = 5784442\n",
    "mx_status.loc['OA', 'population'] = 3801962\n",
    "mx_status.loc['PU', 'population'] = 5779829\n",
    "mx_status.loc['QDA', 'population'] = 1827937\n",
    "mx_status.loc['QRO', 'population'] = 1325578\n",
    "mx_status.loc['SLP', 'population'] = 2585518\n",
    "mx_status.loc['SIN', 'population'] = 2767761\n",
    "mx_status.loc['SON', 'population'] = 2662480\n",
    "mx_status.loc['TBS', 'population'] = 2238603\n",
    "mx_status.loc['TML', 'population'] = 3268554\n",
    "mx_status.loc['TL', 'population'] = 1169936\n",
    "mx_status.loc['VLL', 'population'] = 7643194\n",
    "mx_status.loc['YCT', 'population'] = 1955577\n",
    "mx_status.loc['ZCT', 'population'] = 1490668\n",
    "\n",
    "normalized_data = mx_status.copy()\n",
    "normalized_data['positive_cov_19'] = mx_status.apply(lambda x: x['positive_cov_19'] / x['population'], axis=1)\n",
    "normalized_data['deaths_cov_19'] = mx_status.apply(lambda x: x['deaths_cov_19'] / x['population'], axis=1)\n",
    "\n",
    "normalized_mx['positive_cov_19'] = list(normalized_data['positive_cov_19'])\n",
    "normalized_mx['deaths_cov_19'] = list(normalized_data['deaths_cov_19'])\n",
    "\n",
    "ax = normalized_data.drop(['population'], axis=1).sort_values(by=['positive_cov_19']).plot.bar(rot=0, figsize=(15,5))\n",
    "plt.savefig(join(output_folder, 'figure3.png'))\n",
    "ax = normalized_data.drop(['population'], axis=1).sort_values(by=['deaths_cov_19']).plot.bar(rot=0, figsize=(15,5))\n",
    "plt.savefig(join(output_folder, 'figure4.png'))\n",
    "\n",
    "\n",
    "normalized_data.to_csv(join(output_folder, 'table2.csv'))\n",
    "normalized_data\n",
    "# Orden por Acceso a servicios de salud OCDE\n",
    "# Orden por Grado de pobreza OCDE"
   ]
  },
  {
   "cell_type": "code",
   "execution_count": null,
   "id": "28f39826",
   "metadata": {},
   "outputs": [],
   "source": [
    "ax = mx_status.drop(['population'], axis=1).sort_values(by=['positive_cov_19']).plot.bar(rot=0, figsize=(15,5))\n",
    "\n",
    "plt.yticks(fontsize = 13)\n",
    "plt.xlabel('Casos positivos y defunciones por estado', fontsize = 18)\n",
    "\n",
    "\n",
    "\n",
    "# add value label to each bar, displayng its height\n",
    "for p in ax.patches:\n",
    "    ax.annotate(p.get_height(),\n",
    "                         (p.get_x() + p.get_width()/2., p.get_height()),\n",
    "                        ha = 'center', va = 'center', xytext = (0,7), textcoords = 'offset points', size=9)\n",
    "\n",
    "# save Figure 3 as an image\n",
    "plt.savefig(join(output_folder, 'figure5.png'))"
   ]
  },
  {
   "cell_type": "code",
   "execution_count": null,
   "id": "bfe5ddaf",
   "metadata": {},
   "outputs": [],
   "source": [
    "fig, ax = plt.subplots(1, 1, figsize=(15, 15))\n",
    "\n",
    "mx.plot(column='positive_cov_19', ax=ax, legend=True,\n",
    "               legend_kwds={'label': \"Casos positivos por estado\",\n",
    "                            'orientation': \"horizontal\"})\n",
    "\n",
    "plt.savefig(join(output_folder, 'figure6.png'))"
   ]
  },
  {
   "cell_type": "code",
   "execution_count": null,
   "id": "f0b763f8",
   "metadata": {},
   "outputs": [],
   "source": [
    "fig, ax = plt.subplots(1, 1, figsize=(15, 15))\n",
    "\n",
    "mx.plot(column='deaths_cov_19', ax=ax, legend=True,\n",
    "               legend_kwds={'label': \"Defunciones por estado\",\n",
    "                            'orientation': \"horizontal\"})\n",
    "\n",
    "plt.savefig(join(output_folder, 'figure7.png'))\n"
   ]
  },
  {
   "cell_type": "code",
   "execution_count": null,
   "id": "cfb7009f",
   "metadata": {},
   "outputs": [],
   "source": [
    "fig, ax = plt.subplots(1, 1, figsize=(15, 15))\n",
    "\n",
    "normalized_mx.plot(column='positive_cov_19', ax=ax, legend=True,\n",
    "               legend_kwds={'label': \"Defunciones por estado\",\n",
    "                            'orientation': \"horizontal\"}, cmap='OrRd')\n",
    "\n",
    "plt.savefig(join(output_folder, 'figure8.png'))\n"
   ]
  },
  {
   "cell_type": "code",
   "execution_count": null,
   "id": "cd7cb64a",
   "metadata": {},
   "outputs": [],
   "source": [
    "fig, ax = plt.subplots(1, 1, figsize=(15, 15))\n",
    "\n",
    "normalized_mx.plot(column='deaths_cov_19', ax=ax, legend=True,\n",
    "               legend_kwds={'label': \"Defunciones por estado\",\n",
    "                            'orientation': \"horizontal\"}, cmap='OrRd')\n",
    "\n",
    "plt.savefig(join(output_folder, 'figure9.png'))"
   ]
  },
  {
   "cell_type": "code",
   "execution_count": null,
   "id": "f66bf126",
   "metadata": {},
   "outputs": [],
   "source": [
    "# Impacto de covid en el embarazo"
   ]
  },
  {
   "cell_type": "code",
   "execution_count": null,
   "id": "2b642835",
   "metadata": {},
   "outputs": [],
   "source": [
    "# Hospitalizacion publica vs privada\n",
    "\n",
    "Diferencia en recuperacion y mortalidad\n",
    "Tipo de padecimientos por tipo de hospitalizacion\n",
    "Acceso a servicios de salud"
   ]
  },
  {
   "cell_type": "code",
   "execution_count": null,
   "id": "967bba7a",
   "metadata": {},
   "outputs": [],
   "source": [
    "# Afectacion de poblacion indigena"
   ]
  },
  {
   "cell_type": "code",
   "execution_count": null,
   "id": "e622dad6",
   "metadata": {},
   "outputs": [],
   "source": [
    "# Vacunacion"
   ]
  },
  {
   "cell_type": "code",
   "execution_count": null,
   "id": "3d3198c3",
   "metadata": {},
   "outputs": [],
   "source": [
    "# Impacto Acceso a servicios de salud "
   ]
  }
 ],
 "metadata": {
  "kernelspec": {
   "display_name": "Python 3",
   "language": "python",
   "name": "python3"
  },
  "language_info": {
   "codemirror_mode": {
    "name": "ipython",
    "version": 3
   },
   "file_extension": ".py",
   "mimetype": "text/x-python",
   "name": "python",
   "nbconvert_exporter": "python",
   "pygments_lexer": "ipython3",
   "version": "3.8.5"
  }
 },
 "nbformat": 4,
 "nbformat_minor": 5
}
